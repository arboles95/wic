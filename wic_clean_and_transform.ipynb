{
  "nbformat": 4,
  "nbformat_minor": 0,
  "metadata": {
    "colab": {
      "provenance": []
    },
    "kernelspec": {
      "name": "python3",
      "display_name": "Python 3"
    },
    "language_info": {
      "name": "python"
    }
  },
  "cells": [
    {
      "cell_type": "markdown",
      "source": [
        "<H1 align=\"center\">  Cleaning and Transformation </H1>\n",
        "\n",
        "---\n",
        "\n",
        "# The data\n",
        "\n",
        "In this excercise I'll be using data from the [US Public Food Assistance 1 - WIC](https://www.kaggle.com/datasets/jpmiller/publicassistance) Kaggle database that gives us insights on WIC expenditure accross different states and government organizations and poverty statistics collected by the U.S. Census Bureau.\n",
        "\n",
        "The tables presented in this workbook correspond to the fiscal year (October to September) 2016 since this is the latest data presented in the original database. We will work with only 2 tables: ` Total_Number_of_Participants` that gives us the number of enrolled in WIC accross different states and government organizations and ` est16us`  that is poverty statistics.\n",
        "\n",
        "# The tools\n",
        "\n",
        "I'll use SQLite3 given the popularity and API integration it has with Jupyter notebooks.\n",
        "\n",
        "# The objective\n",
        "\n",
        "The final products of this excercise should be a `Participants` table that only counts WIC agencies at the state level and a `census2016` table that includes only the needed columns and has accurate and contingent data. Both tables should not include duplicates and should have the correct data types for their purposes.\n",
        "\n",
        "# The excercise"
      ],
      "metadata": {
        "id": "FcoUvkVZZ-Wu"
      }
    },
    {
      "cell_type": "code",
      "execution_count": 1,
      "metadata": {
        "colab": {
          "base_uri": "https://localhost:8080/"
        },
        "id": "mwa8CqdueKcM",
        "outputId": "a6406f7a-2ea1-4751-ead0-037c1728992e"
      },
      "outputs": [
        {
          "output_type": "stream",
          "name": "stdout",
          "text": [
            "Cloning into 'wic'...\n",
            "remote: Enumerating objects: 6, done.\u001b[K\n",
            "remote: Counting objects: 100% (6/6), done.\u001b[K\n",
            "remote: Compressing objects: 100% (4/4), done.\u001b[K\n",
            "remote: Total 6 (delta 1), reused 6 (delta 1), pack-reused 0\u001b[K\n",
            "Receiving objects: 100% (6/6), 63.17 KiB | 15.79 MiB/s, done.\n",
            "Resolving deltas: 100% (1/1), done.\n"
          ]
        }
      ],
      "source": [
        "!git clone https://github.com/arboles95/wic.git"
      ]
    },
    {
      "cell_type": "code",
      "source": [
        "import pandas as pd\n",
        "import numpy as np\n",
        "import sqlite3"
      ],
      "metadata": {
        "id": "CHm55gdgXBlO"
      },
      "execution_count": 6,
      "outputs": []
    },
    {
      "cell_type": "code",
      "source": [
        "path = '/content/wic/wic.db'\n",
        "\n",
        "conn = sqlite3.connect(path)\n",
        "\n",
        "cursor = conn.cursor()\n",
        "\n",
        "tables = pd.read_sql_query(\"\"\"SELECT *\n",
        "                              FROM sqlite_master\n",
        "                              WHERE type='table';\"\"\", conn)\n",
        "print(tables)"
      ],
      "metadata": {
        "colab": {
          "base_uri": "https://localhost:8080/"
        },
        "id": "kcEfnhtOXDgq",
        "outputId": "334fa12e-a3f7-464a-b681-9d568ef2a651"
      },
      "execution_count": 8,
      "outputs": [
        {
          "output_type": "stream",
          "name": "stdout",
          "text": [
            "    type                          name                      tbl_name  \\\n",
            "0  table  Total_Number_of_Participants  Total_Number_of_Participants   \n",
            "1  table                       est16us                       est16us   \n",
            "\n",
            "   rootpage                                                sql  \n",
            "0        41  CREATE TABLE \"Total_Number_of_Participants\" (\\...  \n",
            "1        54  CREATE TABLE \"est16us\" (\\n\\t\"GeographicInforma...  \n"
          ]
        }
      ]
    },
    {
      "cell_type": "markdown",
      "source": [
        "First we'll check the data types for the participants table"
      ],
      "metadata": {
        "id": "-7-6PTGLYmP-"
      }
    },
    {
      "cell_type": "code",
      "source": [
        "query = \"\"\"PRAGMA table_info(Total_Number_of_Participants)\"\"\"\n",
        "\n",
        "cursor.execute(query)\n",
        "\n",
        "for row in cursor.fetchall():\n",
        "    print(row)"
      ],
      "metadata": {
        "colab": {
          "base_uri": "https://localhost:8080/"
        },
        "id": "NqTMvXX1YsKG",
        "outputId": "fea62413-4413-42a3-d749-255909d60611"
      },
      "execution_count": 9,
      "outputs": [
        {
          "output_type": "stream",
          "name": "stdout",
          "text": [
            "(0, 'StateAgencyorIndianTribalOrganization', 'TEXT', 0, None, 0)\n",
            "(1, '2015-10-0100:00:00', 'REAL', 0, None, 0)\n",
            "(2, '2015-11-0100:00:00', 'REAL', 0, None, 0)\n",
            "(3, '2015-12-0100:00:00', 'REAL', 0, None, 0)\n",
            "(4, '2016-01-0100:00:00', 'REAL', 0, None, 0)\n",
            "(5, '2016-02-0100:00:00', 'REAL', 0, None, 0)\n",
            "(6, '2016-03-0100:00:00', 'REAL', 0, None, 0)\n",
            "(7, '2016-04-0100:00:00', 'REAL', 0, None, 0)\n",
            "(8, '2016-05-0100:00:00', 'REAL', 0, None, 0)\n",
            "(9, '2016-06-0100:00:00', 'REAL', 0, None, 0)\n",
            "(10, '2016-07-0100:00:00', 'REAL', 0, None, 0)\n",
            "(11, '2016-08-0100:00:00', 'REAL', 0, None, 0)\n",
            "(12, '2016-09-0100:00:00', 'REAL', 0, None, 0)\n",
            "(13, 'AverageParticipation', 'INTEGER', 0, None, 0)\n"
          ]
        }
      ]
    },
    {
      "cell_type": "markdown",
      "source": [
        "The columns counting participants are REAL (floats) data types and average participations is an INTEGER type.\n",
        "\n",
        "These should be the other way around."
      ],
      "metadata": {
        "id": "E1I4udboYxhu"
      }
    },
    {
      "cell_type": "code",
      "source": [
        "query1 = \"\"\"CREATE TEMPORARY TABLE IF NOT EXISTS Participants AS\n",
        "            SELECT\n",
        "                StateAgencyorIndianTribalOrganization AS place,\n",
        "                CAST(\"2015-10-0100:00:00\" AS INTEGER) AS \"2015-10\",\n",
        "                CAST(\"2015-11-0100:00:00\" AS INTEGER) AS \"2015-11\",\n",
        "                CAST(\"2015-12-0100:00:00\" AS INTEGER) AS \"2015-12\",\n",
        "                CAST(\"2016-01-0100:00:00\" AS INTEGER) AS \"2016-01\",\n",
        "                CAST(\"2016-02-0100:00:00\" AS INTEGER) AS \"2016-02\",\n",
        "                CAST(\"2016-03-0100:00:00\" AS INTEGER) AS \"2016-03\",\n",
        "                CAST(\"2016-04-0100:00:00\" AS INTEGER) AS \"2016-04\",\n",
        "                CAST(\"2016-05-0100:00:00\" AS INTEGER) AS \"2016-05\",\n",
        "                CAST(\"2016-06-0100:00:00\" AS INTEGER) AS \"2016-06\",\n",
        "                CAST(\"2016-07-0100:00:00\" AS INTEGER) AS \"2016-07\",\n",
        "                CAST(\"2016-08-0100:00:00\" AS INTEGER) AS \"2016-08\",\n",
        "                CAST(\"2016-09-0100:00:00\" AS INTEGER) AS \"2016-09\",\n",
        "                CAST(AverageParticipation AS REAL) AS AvgParticipation\n",
        "            FROM Total_Number_of_Participants\n",
        "\"\"\"\n",
        "\n",
        "cursor.execute(query1)\n",
        "\n",
        "query2 = \"\"\"SELECT *\n",
        "            FROM Participants\n",
        "            ORDER BY place DESC\n",
        "            LIMIT 15\"\"\"\n",
        "\n",
        "cursor.execute(query2)\n",
        "\n",
        "for row in cursor.fetchall():\n",
        "    print(row)"
      ],
      "metadata": {
        "colab": {
          "base_uri": "https://localhost:8080/"
        },
        "id": "LgULq2y0Y0iu",
        "outputId": "e0289f13-70d2-4125-f204-f36cd8a9643d"
      },
      "execution_count": 10,
      "outputs": [
        {
          "output_type": "stream",
          "name": "stdout",
          "text": [
            "('Zuni Pueblo, NM', 684, 625, 662, 635, 661, 626, 670, 615, 660, 634, 667, 584, 643.5833333333334)\n",
            "('Wyoming', 10316, 10220, 10216, 10233, 10201, 10275, 10238, 10195, 10214, 10003, 10056, 10082, 10187.416666666666)\n",
            "('Wisconsin', 103471, 102042, 100895, 100545, 99349, 99671, 99373, 99286, 99290, 98519, 99855, 99527, 100151.91666666669)\n",
            "('Winnebago Tribe, NE', 292, 261, 249, 272, 227, 265, 244, 259, 257, 283, 298, 253, 263.3333333333333)\n",
            "('Wichita, Caddo & Delaware (WCD), OK', 3955, 3910, 3893, 4019, 4010, 3994, 3965, 4029, 4101, 4014, 4049, 3910, 3987.4166666666665)\n",
            "('West Virginia', 41477, 40837, 40668, 40318, 40055, 40457, 40223, 39957, 39904, 39788, 40461, 40546, 40390.916666666664)\n",
            "('Washington', 174838, 170214, 170231, 170225, 168323, 170830, 168599, 167354, 168203, 164902, 166689, 166122, 168877.5)\n",
            "('Virginia', 139899, 136173, 134223, 131145, 130096, 131866, 131315, 131515, 131180, 130095, 131130, 130211, 132404.0)\n",
            "('Virgin Islands', 4322, 4313, 4240, 4258, 4268, 4176, 4151, 4194, 4108, 4025, 4020, 4040, 4176.25)\n",
            "('Vermont', 13422, 13384, 13217, 13190, 12876, 12686, 12799, 12600, 12472, 12251, 12134, 12036, 12755.583333333334)\n",
            "('Ute Mountain Ute Tribe, CO', 212, 215, 185, 200, 202, 198, 196, 189, 210, 211, 185, 178, 198.41666666666663)\n",
            "('Utah', 58045, 57364, 56349, 56178, 56664, 56843, 56614, 56286, 56411, 55585, 56343, 56329, 56584.25)\n",
            "('Three Affiliated Tribes, ND', 230, 215, 220, 209, 201, 203, 214, 224, 256, 265, 265, 287, 232.41666666666663)\n",
            "('Texas', None, None, None, None, None, None, None, None, None, None, None, None, None)\n",
            "('Texas', 882897, 875264, 862979, 859663, 858671, 858889, 852957, 852304, 858258, 847738, 855542, 852671, 859819.4166666666)\n"
          ]
        }
      ]
    },
    {
      "cell_type": "markdown",
      "source": [
        "Texas appears twice here, with one record having all nulls. We'll have to remove this."
      ],
      "metadata": {
        "id": "f2Em0CgHY333"
      }
    },
    {
      "cell_type": "code",
      "source": [
        "query1 = \"\"\"DELETE FROM Participants\n",
        "            WHERE place = 'Texas' AND \"2015-10\" IS NULL\"\"\"\n",
        "\n",
        "cursor.execute(query1)\n",
        "\n",
        "query2 = \"\"\"SELECT *\n",
        "            FROM Participants\n",
        "            WHERE place = 'Texas' \"\"\"\n",
        "\n",
        "cursor.execute(query2)\n",
        "\n",
        "for row in cursor.fetchall():\n",
        "    print(row)"
      ],
      "metadata": {
        "colab": {
          "base_uri": "https://localhost:8080/"
        },
        "id": "thvlC6nmY83w",
        "outputId": "1ef515d1-ec7a-4629-d5f5-ab36b582f42c"
      },
      "execution_count": 11,
      "outputs": [
        {
          "output_type": "stream",
          "name": "stdout",
          "text": [
            "('Texas', 882897, 875264, 862979, 859663, 858671, 858889, 852957, 852304, 858258, 847738, 855542, 852671, 859819.4166666666)\n"
          ]
        }
      ]
    },
    {
      "cell_type": "markdown",
      "source": [
        "We can proceed with filtering for dependencies at the state level.\n",
        "\n",
        "First we'll query the names of states from the est16us table. (The est16us table also needs cleaning and transformation for column names but we'll get to that later.)"
      ],
      "metadata": {
        "id": "scLFPfkoY_6P"
      }
    },
    {
      "cell_type": "code",
      "source": [
        "query1 = \"\"\"CREATE TEMPORARY TABLE IF NOT EXISTS States AS\n",
        "            SELECT \"Unnamed:2\" AS Names\n",
        "            FROM est16us\n",
        "            WHERE \"Unnamed:1\" NOT IN (\"US\", \"DC\", \"Postal Code\")\"\"\"\n",
        "\n",
        "cursor.execute(query1)\n",
        "\n",
        "query2 = \"\"\"SELECT *\n",
        "            FROM States \"\"\"\n",
        "\n",
        "cursor.execute(query2)\n",
        "\n",
        "for row in cursor.fetchall():\n",
        "    print(row)"
      ],
      "metadata": {
        "colab": {
          "base_uri": "https://localhost:8080/"
        },
        "id": "Q7Ptz7WyZFQg",
        "outputId": "5c16b9e8-13dc-42b1-b8f6-bf5b9ff94c2d"
      },
      "execution_count": 13,
      "outputs": [
        {
          "output_type": "stream",
          "name": "stdout",
          "text": [
            "('Alabama',)\n",
            "('Alaska',)\n",
            "('Arizona',)\n",
            "('Arkansas',)\n",
            "('California',)\n",
            "('Colorado',)\n",
            "('Connecticut',)\n",
            "('Delaware',)\n",
            "('Florida',)\n",
            "('Georgia',)\n",
            "('Hawaii',)\n",
            "('Idaho',)\n",
            "('Illinois',)\n",
            "('Indiana',)\n",
            "('Iowa',)\n",
            "('Kansas',)\n",
            "('Kentucky',)\n",
            "('Louisiana',)\n",
            "('Maine',)\n",
            "('Maryland',)\n",
            "('Massachusetts',)\n",
            "('Michigan',)\n",
            "('Minnesota',)\n",
            "('Mississippi',)\n",
            "('Missouri',)\n",
            "('Montana',)\n",
            "('Nebraska',)\n",
            "('Nevada',)\n",
            "('New Hampshire',)\n",
            "('New Jersey',)\n",
            "('New Mexico',)\n",
            "('New York',)\n",
            "('North Carolina',)\n",
            "('North Dakota',)\n",
            "('Ohio',)\n",
            "('Oklahoma',)\n",
            "('Oregon',)\n",
            "('Pennsylvania',)\n",
            "('Rhode Island',)\n",
            "('South Carolina',)\n",
            "('South Dakota',)\n",
            "('Tennessee',)\n",
            "('Texas',)\n",
            "('Utah',)\n",
            "('Vermont',)\n",
            "('Virginia',)\n",
            "('Washington',)\n",
            "('West Virginia',)\n",
            "('Wisconsin',)\n",
            "('Wyoming',)\n"
          ]
        }
      ]
    },
    {
      "cell_type": "markdown",
      "source": [
        "Now that we have the States table we can proceed to filter the Participants table."
      ],
      "metadata": {
        "id": "c_jDoBydZN6O"
      }
    },
    {
      "cell_type": "code",
      "source": [
        "query1 = \"\"\"DELETE FROM Participants\n",
        "            WHERE place NOT IN States\"\"\"\n",
        "\n",
        "cursor.execute(query1)\n",
        "\n",
        "query2 = \"\"\"SELECT *\n",
        "            FROM Participants\n",
        "            LIMIT 10\"\"\"\n",
        "\n",
        "cursor.execute(query2)\n",
        "\n",
        "for row in cursor.fetchall():\n",
        "    print(row)"
      ],
      "metadata": {
        "colab": {
          "base_uri": "https://localhost:8080/"
        },
        "id": "l9sXMJB8ZRYe",
        "outputId": "cc5f7710-58cc-4ac4-c647-eee100aed893"
      },
      "execution_count": 14,
      "outputs": [
        {
          "output_type": "stream",
          "name": "stdout",
          "text": [
            "('Connecticut', 50960, 49600, 49922, 49803, 48351, 49374, 48162, 48920, 48908, 48221, 48842, 48798, 49155.083333333336)\n",
            "('Maine', 21180, 21099, 20952, 21006, 20795, 20866, 20628, 20488, 20310, 20139, 20466, 20286, 20684.583333333332)\n",
            "('Massachusetts', 114142, 115972, 114682, 112913, 113624, 113843, 113273, 116040, 111516, 114669, 116258, 116091, 114418.58333333331)\n",
            "('New Hampshire', 14689, 14301, 14182, 14166, 14059, 14263, 13916, 14159, 14139, 13945, 13888, 13750, 14121.416666666666)\n",
            "('New York', 470638, 467100, 462290, 459356, 457118, 458835, 457372, 458136, 456905, 451073, 454833, 453304, 458913.3333333333)\n",
            "('Rhode Island', 20934, 20701, 20694, 20446, 19853, 20420, 20150, 20443, 20434, 19836, 20162, 20430, 20375.25)\n",
            "('Vermont', 13422, 13384, 13217, 13190, 12876, 12686, 12799, 12600, 12472, 12251, 12134, 12036, 12755.583333333334)\n",
            "('Delaware', 18683, 18346, 18276, 18458, 18210, 18226, 18249, 18004, 17586, 17503, 17797, 17831, 18097.416666666668)\n",
            "('Maryland', 143142, 141468, 140192, 138100, 138914, 139343, 139662, 139316, 139982, 137989, 138926, 137877, 139575.91666666666)\n",
            "('New Jersey', 160477, 157285, 156689, 154911, 154253, 154741, 153247, 154341, 154108, 153588, 155112, 154672, 155285.33333333334)\n"
          ]
        }
      ]
    },
    {
      "cell_type": "markdown",
      "source": [
        "It's probably best to update the AvgParticipation column given all the cleaning we've had to do."
      ],
      "metadata": {
        "id": "NqlgkODGZTzO"
      }
    },
    {
      "cell_type": "code",
      "source": [
        "query1 = \"\"\"UPDATE Participants\n",
        "            SET AvgParticipation = (\n",
        "            SELECT ROUND(AVG((\"2015-10\" + \"2015-11\" + \"2015-12\" + \"2016-01\" + \"2016-02\" + \"2016-03\" +\n",
        "            \"2016-04\" + \"2016-05\" + \"2016-06\" + \"2016-07\" + \"2016-08\" + \"2016-09\")/12), 2)\n",
        "            FROM Participants as p\n",
        "            WHERE p.place = Participants.place)\"\"\"\n",
        "\n",
        "cursor.execute(query1)\n",
        "\n",
        "query2 = \"\"\"SELECT *\n",
        "            FROM Participants\n",
        "            LIMIT 10\"\"\"\n",
        "\n",
        "cursor.execute(query2)\n",
        "\n",
        "for row in cursor.fetchall():\n",
        "    print(row)"
      ],
      "metadata": {
        "colab": {
          "base_uri": "https://localhost:8080/"
        },
        "id": "15_yHcL-ZXxW",
        "outputId": "268541aa-fc14-40ad-84bb-6e06e68d60ed"
      },
      "execution_count": 15,
      "outputs": [
        {
          "output_type": "stream",
          "name": "stdout",
          "text": [
            "('Connecticut', 50960, 49600, 49922, 49803, 48351, 49374, 48162, 48920, 48908, 48221, 48842, 48798, 49155.0)\n",
            "('Maine', 21180, 21099, 20952, 21006, 20795, 20866, 20628, 20488, 20310, 20139, 20466, 20286, 20684.0)\n",
            "('Massachusetts', 114142, 115972, 114682, 112913, 113624, 113843, 113273, 116040, 111516, 114669, 116258, 116091, 114418.0)\n",
            "('New Hampshire', 14689, 14301, 14182, 14166, 14059, 14263, 13916, 14159, 14139, 13945, 13888, 13750, 14121.0)\n",
            "('New York', 470638, 467100, 462290, 459356, 457118, 458835, 457372, 458136, 456905, 451073, 454833, 453304, 458913.0)\n",
            "('Rhode Island', 20934, 20701, 20694, 20446, 19853, 20420, 20150, 20443, 20434, 19836, 20162, 20430, 20375.0)\n",
            "('Vermont', 13422, 13384, 13217, 13190, 12876, 12686, 12799, 12600, 12472, 12251, 12134, 12036, 12755.0)\n",
            "('Delaware', 18683, 18346, 18276, 18458, 18210, 18226, 18249, 18004, 17586, 17503, 17797, 17831, 18097.0)\n",
            "('Maryland', 143142, 141468, 140192, 138100, 138914, 139343, 139662, 139316, 139982, 137989, 138926, 137877, 139575.0)\n",
            "('New Jersey', 160477, 157285, 156689, 154911, 154253, 154741, 153247, 154341, 154108, 153588, 155112, 154672, 155285.0)\n"
          ]
        }
      ]
    },
    {
      "cell_type": "markdown",
      "source": [
        "Clean and tidy.\n",
        "\n",
        "We can proceed with cleaning the est16us table, which is the table with poverty indicators from the US Census Bureau for 2016.\n"
      ],
      "metadata": {
        "id": "XJyQFbvYZaKf"
      }
    },
    {
      "cell_type": "code",
      "source": [
        "query = \"\"\"PRAGMA table_info(est16us)\"\"\"\n",
        "\n",
        "cursor.execute(query)\n",
        "\n",
        "for row in cursor.fetchall():\n",
        "    print(row)"
      ],
      "metadata": {
        "id": "Zi8pQM6IZdmv"
      },
      "execution_count": null,
      "outputs": []
    },
    {
      "cell_type": "markdown",
      "source": [
        "This table has 30 columns, most of which are unnamed. The formatting on this table was erronous but it at least gave us the first row so we can consult what information these columns are storing.\n",
        "\n",
        "We see that most of the columns are poverty estimates and percentages accross age groups and ther 90% CI Upper and Lower boundaries.\n",
        "\n",
        "We'll have to seperate the columns with the CI boundearies from our replacement table. While we're at it we'll give the columns proper names. The types will also have to be corrected when being queried for the new table."
      ],
      "metadata": {
        "id": "zwndSprFZho2"
      }
    },
    {
      "cell_type": "code",
      "source": [
        "query1 = \"\"\"CREATE TEMPORARY TABLE IF NOT EXISTS census2016 AS\n",
        "\tSELECT\n",
        "\tCAST(GeographicInformation AS INTEGER) AS State_Code,\n",
        "\t\"Unnamed:1\" AS Postal_Code,\n",
        "\t\"Unnamed:2\" AS Name,\n",
        "\tCAST(AllAges AS INTEGER) AS Pov_All_Ages_Est,\n",
        "\tCAST(\"Unnamed:6\" AS REAL) AS Pov_All_Ages_Perc,\n",
        "\tCAST(\"Age0-17\" AS INTEGER) AS Pov_0_17_Est,\n",
        "\tCAST(\"Unnamed:12\" AS REAL) AS Pov_0_17_Perc,\n",
        "\tCAST(\"Age5-17inFamilies\" AS INTEGER) AS Pov_5_17_Fam_Est,\n",
        "\tCAST(\"Unnamed:18\" AS REAL) AS Pov_5_17_Fam_Perc,\n",
        "\tCAST(MedianHouseholdIncome AS INTEGER) AS Med_Household_Income,\n",
        "\tCAST(\"Age0-4\" AS INTEGER) AS Pov_0_4_Est,\n",
        "\tCAST(\"Unnamed:27\" AS REAL) AS Pov_0_4_Perc\n",
        "\tFROM est16us\"\"\"\n",
        "\n",
        "cursor.execute(query1)\n",
        "\n",
        "query2 = \"\"\"DELETE FROM census2016\n",
        "            WHERE Name NOT IN States\"\"\"\n",
        "\n",
        "cursor.execute(query2)\n",
        "\n",
        "query3 = \"\"\"SELECT *\n",
        "            FROM census2016\n",
        "            LIMIT 10\"\"\"\n",
        "\n",
        "cursor.execute(query3)\n",
        "\n",
        "for row in cursor.fetchall():\n",
        "    print(row)"
      ],
      "metadata": {
        "colab": {
          "base_uri": "https://localhost:8080/"
        },
        "id": "skdqxM1lZnfe",
        "outputId": "04e71535-0ca1-4fda-a564-6287fbe20f61"
      },
      "execution_count": 16,
      "outputs": [
        {
          "output_type": "stream",
          "name": "stdout",
          "text": [
            "(1, 'AL', 'Alabama', 814197, 17.2, 267674, 24.7, 185889, 23.5, 46309, 78675, 27.4)\n",
            "(2, 'AK', 'Alaska', 71916, 9.9, 24897, 13.6, 16061, 12.3, 76144, 7919, 15.1)\n",
            "(4, 'AZ', 'Arizona', 1107153, 16.4, 377445, 23.6, 263614, 22.6, 53481, 106817, 24.9)\n",
            "(5, 'AR', 'Arkansas', 497388, 17.2, 165724, 24.0, 112376, 22.3, 44406, 50341, 27.3)\n",
            "(6, 'CA', 'California', 5527621, 14.4, 1782764, 19.9, 1242780, 19.2, 67715, 502432, 20.7)\n",
            "(8, 'CO', 'Colorado', 598378, 11.0, 166581, 13.4, 115917, 12.8, 65718, 46111, 13.9)\n",
            "(9, 'CT', 'Connecticut', 342171, 9.9, 97462, 13.1, 67644, 12.1, 73380, 27362, 15.2)\n",
            "(10, 'DE', 'Delaware', 109592, 11.8, 35702, 17.7, 23942, 16.3, 62112, 10824, 20.1)\n",
            "(12, 'FL', 'Florida', 2986237, 14.8, 869892, 21.3, 594181, 20.1, 50857, 259244, 23.5)\n",
            "(13, 'GA', 'Georgia', 1612368, 16.1, 572102, 23.1, 390690, 21.5, 53468, 172046, 26.6)\n"
          ]
        }
      ]
    },
    {
      "cell_type": "markdown",
      "source": [
        "# Conclusion\n",
        "\n",
        "The importance of clean and tidy data is paramount to analysis. The data I've worked with in this excercise also signaled the need to check and cast data types in the tables we'll be working with since they're not always clear at first sight. I've also had to transform the data given duplicates that wouldn't have been detected if not actively searched for. Some columns were also not relevant to the task at hand and that called for seperating them from the final table, to facilitate analysis."
      ],
      "metadata": {
        "id": "VXaOpjcyZsqO"
      }
    }
  ]
}